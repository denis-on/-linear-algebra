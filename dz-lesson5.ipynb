{
 "cells": [
  {
   "cell_type": "code",
   "execution_count": 1,
   "outputs": [],
   "source": [
    "import numpy as np"
   ],
   "metadata": {
    "collapsed": false,
    "pycharm": {
     "name": "#%%\n"
    }
   }
  },
  {
   "cell_type": "markdown",
   "metadata": {
    "collapsed": true,
    "pycharm": {
     "name": "#%% md\n"
    }
   },
   "source": [
    "__1.__ Найти собственные векторы и собственные значения для линейного оператора, заданного матрицей\n",
    "\n",
    "$$A=\\begin{pmatrix}\n",
    "-1 & -6\\\\\n",
    "2 & 6\n",
    "\\end{pmatrix}.$$"
   ]
  },
  {
   "cell_type": "markdown",
   "source": [
    "Решение:\n",
    "\n",
    "$$\\begin{vmatrix}\n",
    "-1-\\lambda & -6\\\\\n",
    "2 & 6-\\lambda\n",
    "\\end{vmatrix} = 0$$\n",
    "\n",
    "$(-1 - \\lambda)(6 - \\lambda)-(2\\cdot -6) = 0$\n",
    "\n",
    "$\\lambda^{2} - 5 \\cdot \\lambda + 6 = 0,$\n",
    "\n",
    "$D = 5^{2} - 4\\cdot 1 \\cdot 6=1$\n",
    "\n",
    "$\\lambda=(5\\pm1)/2$\n",
    "\n",
    "$\\lambda1=6/2=3$\n",
    "\n",
    "$\\lambda2=4/2=2$\n",
    "\n",
    "Найдем собственные векторы для $\\lambda1$ система уравнений будет выглядеть:\n",
    "\n",
    "$$\\begin{cases}\n",
    "-x_{1}-6\\cdot x_{2}= 2\\cdot x_{1}, \\\\\n",
    "2\\cdot x_{1}+6\\cdot x_{2}= 2\\cdot x_{2}.\n",
    "\\end{cases}$$\n",
    "\n",
    "Перенеся все в левую часть, получим\n",
    "\n",
    "$$\\begin{cases}\n",
    "-3\\cdot x_{1}-6\\cdot x_{2}= 0, \\\\\n",
    "2\\cdot x_{1}+4\\cdot x_{2}= 0;\n",
    "\\end{cases}$$\n",
    "\n",
    "$$\\begin{cases}\n",
    "x_{2}=-\\frac{1}{2}\\cdot x_{1}, \\\\\n",
    "0 = 0.\n",
    "\\end{cases}$$\n",
    "\n",
    "Найдем собственные векторы для $\\lambda2$ система уравнений будет выглядеть:\n",
    "\n",
    "$$\\begin{cases}\n",
    "-x_{1}-6\\cdot x_{2}= 3\\cdot x_{1}, \\\\\n",
    "2\\cdot x_{1}+6\\cdot x_{2}= 3\\cdot x_{2}.\n",
    "\\end{cases}$$\n",
    "\n",
    "Перенеся все в левую часть, получим\n",
    "\n",
    "$$\\begin{cases}\n",
    "-4\\cdot x_{1}-6\\cdot x_{2}= 0, \\\\\n",
    "2\\cdot x_{1}+3\\cdot x_{2}= 0;\n",
    "\\end{cases}$$\n",
    "\n",
    "$$\\begin{cases}\n",
    "x_{2}=-\\frac{2}{3}\\cdot x_{1}, \\\\\n",
    "0 = 0.\n",
    "\\end{cases}$$"
   ],
   "metadata": {
    "collapsed": false,
    "pycharm": {
     "name": "#%% md\n"
    }
   }
  },
  {
   "cell_type": "code",
   "execution_count": 2,
   "outputs": [
    {
     "name": "stdout",
     "output_type": "stream",
     "text": [
      "Матрица A:\n",
      "[[-1 -6]\n",
      " [ 2  6]]\n",
      "Собственные значения:\n",
      "[2. 3.]\n",
      "Собственные векторы:\n",
      "[[-0.89442719  0.83205029]\n",
      " [ 0.4472136  -0.5547002 ]]\n"
     ]
    }
   ],
   "source": [
    "a = np.array([[-1, -6], [2, 6]])\n",
    "w, v = np.linalg.eig(a)\n",
    "\n",
    "print(f'Матрица A:\\n{a}')\n",
    "print(f'Собственные значения:\\n{w}')\n",
    "print(f'Собственные векторы:\\n{v}')"
   ],
   "metadata": {
    "collapsed": false,
    "pycharm": {
     "name": "#%%\n"
    }
   }
  },
  {
   "cell_type": "markdown",
   "source": [
    "__2.__ Дан оператор поворота на 180 градусов, задаваемый матрицей\n",
    "\n",
    "$$A=\\begin{pmatrix}\n",
    "-1 & 0\\\\\n",
    "0 & -1\n",
    "\\end{pmatrix}.$$\n",
    "\n",
    "Показать, что __любой__ вектор является для него собственным."
   ],
   "metadata": {
    "collapsed": false
   }
  },
  {
   "cell_type": "markdown",
   "source": [
    "Решение:\n",
    "\n",
    "$$\\begin{vmatrix}\n",
    "-1-\\lambda & 0\\\\\n",
    "0 & -1-\\lambda\n",
    "\\end{vmatrix} = 0$$\n",
    "\n",
    "$(-1\\cdot \\lambda)^{2} = 0,$\n",
    "\n",
    "$\\lambda^{2} + 2\\lambda + 1 = 0,$\n",
    "\n",
    "$D = 2^{2} - 4\\cdot 1 \\cdot 1 = 0$\n",
    "\n",
    "$\\lambda=-2/2=-1$\n",
    "\n",
    "Теперь найдем собственные векторы вида $\\begin{pmatrix}\n",
    "x_{1}\\\\\n",
    "x_{2}\n",
    "\\end{pmatrix}$, подставив полученное собственное значение в выражение $\\textbf{A}x=\\lambda x$:\n",
    "\n",
    "$$\\begin{pmatrix}\n",
    "-1 & 0\\\\\n",
    "0 & -1\n",
    "\\end{pmatrix}\n",
    "\\begin{pmatrix}\n",
    "x_{1}\\\\\n",
    "x_{2}\n",
    "\\end{pmatrix}=\n",
    "\\lambda\n",
    "\\begin{pmatrix}\n",
    "x_{1}\\\\\n",
    "x_{2}\n",
    "\\end{pmatrix}.\n",
    "$$\n",
    "\n",
    "Получим:\n",
    "\n",
    "$$\\begin{cases}\n",
    "-1\\cdot x_{1} + 0\\cdot x_{2} = -1\\cdot x_{1}, \\\\\n",
    "0\\cdot x_{1} + -1\\cdot x_{2}= -1\\cdot x_{2}.\n",
    "\\end{cases}$$\n",
    "\n",
    "В итоге получим систему следующего вида:\n",
    "\n",
    "$$\\begin{cases}\n",
    "-x_{1} = -x_{1}, \\\\\n",
    "-x_{2} = -x_{2};\n",
    "\\end{cases}$$\n",
    "\n",
    "$$\\begin{cases}\n",
    "0 = 0, \\\\\n",
    "0 = 0.\n",
    "\\end{cases}$$\n",
    "\n",
    "Следовательно, любой вектор является для данного оператора поворота будет собственным"
   ],
   "metadata": {
    "collapsed": false,
    "pycharm": {
     "name": "#%% md\n"
    }
   }
  },
  {
   "cell_type": "markdown",
   "source": [
    "__3.__ Пусть линейный оператор задан матрицей\n",
    "\n",
    "$$A=\\begin{pmatrix}\n",
    "1 & 1\\\\\n",
    "-1 & 3\n",
    "\\end{pmatrix}.$$\n",
    "\n",
    "Установить, является ли вектор $x=(1,1)$ собственным вектором этого линейного оператора."
   ],
   "metadata": {
    "collapsed": false
   }
  },
  {
   "cell_type": "markdown",
   "source": [
    "Предположим, что вектор $x$ является собственным вектором заданного линейного оператора, тогда должно существовать некоторое вещественное число $\\lambda$, при котором\n",
    "\n",
    "$$\\begin{pmatrix}\n",
    "1 & 1\\\\\n",
    "-1 & 3\n",
    "\\end{pmatrix}\n",
    "\\begin{pmatrix}\n",
    "1\\\\\n",
    "1\n",
    "\\end{pmatrix}=\n",
    "\\lambda\n",
    "\\begin{pmatrix}\n",
    "1\\\\\n",
    "1\n",
    "\\end{pmatrix}.\n",
    "$$\n",
    "\n",
    "Из этого будет следовать, что\n",
    "\n",
    "$$\\begin{cases}\n",
    "1+1=\\lambda \\\\\n",
    "-1+3 = \\lambda\n",
    "\\end{cases}\n",
    "\\Rightarrow\n",
    "\\begin{cases}\n",
    "\\lambda=2\\\\\n",
    "\\lambda=2\n",
    "\\end{cases}.$$\n",
    "\n",
    "Следовательно, вектор $x=(1,1)$ является собственным вектором линейного оператора, заданного матрицей $A$."
   ],
   "metadata": {
    "collapsed": false,
    "pycharm": {
     "name": "#%% md\n"
    }
   }
  },
  {
   "cell_type": "markdown",
   "source": [
    "__4.__ Пусть линейный оператор задан матрицей\n",
    "\n",
    "$$A=\\begin{pmatrix}\n",
    "0 & 3 & 0\\\\\n",
    "3 & 0 & 0\\\\\n",
    "0 & 0 & 3\n",
    "\\end{pmatrix}.$$\n",
    "\n",
    "Установить, является ли вектор $x=(3, -3, -4)$ собственным вектором этого линейного оператора."
   ],
   "metadata": {
    "collapsed": false
   }
  },
  {
   "cell_type": "markdown",
   "source": [
    "Предположим, что вектор $x$ является собственным вектором заданного линейного оператора. Тогда получим:\n",
    "\n",
    "$$\\begin{pmatrix}\n",
    "0 & 3 & 0\\\\\n",
    "3 & 0 & 0\\\\\n",
    "0 & 0 & 3\n",
    "\\end{pmatrix}\n",
    "\\begin{pmatrix}\n",
    "3\\\\\n",
    "-3\\\\\n",
    "-4\n",
    "\\end{pmatrix}=\n",
    "\\lambda\n",
    "\\begin{pmatrix}\n",
    "3\\\\\n",
    "-3\\\\\n",
    "-4\n",
    "\\end{pmatrix}\n",
    "$$\n",
    "\n",
    "$$\\Rightarrow\n",
    "\\begin{cases}\n",
    "\\lambda=-3\\\\\n",
    "\\lambda=-3\\\\\n",
    "\\lambda=3\n",
    "\\end{cases}$$\n",
    "\n",
    "Такая система не имеет смысла, следовательно, вектор $x=(3, -3, -4)$ не является собственным вектором линейного оператора, заданного матрицей $A$"
   ],
   "metadata": {
    "collapsed": false,
    "pycharm": {
     "name": "#%% md\n"
    }
   }
  }
 ],
 "metadata": {
  "kernelspec": {
   "display_name": "Python 3",
   "language": "python",
   "name": "python3"
  },
  "language_info": {
   "codemirror_mode": {
    "name": "ipython",
    "version": 2
   },
   "file_extension": ".py",
   "mimetype": "text/x-python",
   "name": "python",
   "nbconvert_exporter": "python",
   "pygments_lexer": "ipython2",
   "version": "2.7.6"
  }
 },
 "nbformat": 4,
 "nbformat_minor": 0
}