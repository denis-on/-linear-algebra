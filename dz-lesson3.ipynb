{
 "cells": [
  {
   "cell_type": "code",
   "execution_count": 265,
   "metadata": {
    "pycharm": {
     "name": "#%%\n"
    }
   },
   "outputs": [],
   "source": [
    "import numpy as np"
   ]
  },
  {
   "cell_type": "markdown",
   "metadata": {},
   "source": [
    "__1.__ Установить, какие произведения матриц $AB$ и $BA$ определены, и найти размерности полученных матриц:\n",
    "\n",
    "   а) $A$ — матрица $4\\times 2$, $B$ — матрица $4\\times 2$;\n",
    "\n",
    "   б) $A$ — матрица $2\\times 5$, $B$ — матрица $5\\times 3$;\n",
    "\n",
    "   в) $A$ — матрица $8\\times 3$, $B$ — матрица $3\\times 8$;\n",
    "\n",
    "   г) $A$ — квадратная матрица $4\\times 4$, $B$ — квадратная матрица $4\\times 4$."
   ]
  },
  {
   "cell_type": "markdown",
   "metadata": {
    "pycharm": {
     "name": "#%% md\n"
    }
   },
   "source": [
    "Вариант a:\n",
    "\n",
    "$A*B$ = $4\\times 2$ и $4\\times 2$\n",
    "\n",
    "$B*A$ = $4\\times 2$ и $4\\times 2$\n",
    "\n",
    "Произведения не определены"
   ]
  },
  {
   "cell_type": "markdown",
   "metadata": {
    "pycharm": {
     "name": "#%% md\n"
    }
   },
   "source": [
    "Вариант б:\n",
    "\n",
    "$A*B$ = $2\\times 5$ и $5\\times 3$, произведение определено, размерность полученной матрицы $2\\times 3$\n",
    "\n",
    "$B*A$ = $5\\times 3$ и $2\\times 5$, произведение не определено"
   ]
  },
  {
   "cell_type": "markdown",
   "metadata": {
    "pycharm": {
     "name": "#%% md\n"
    }
   },
   "source": [
    "Вариант в:\n",
    "\n",
    "$A*B$ = $8\\times 3$ и $3\\times 8$, произведение определено, размерность полученной матрицы $8\\times 8$\n",
    "\n",
    "$B*A$ = $3\\times 8$ и $8\\times 3$, произведение определено, размерность полученной матрицы $3\\times 3$"
   ]
  },
  {
   "cell_type": "markdown",
   "metadata": {
    "pycharm": {
     "name": "#%% md\n"
    }
   },
   "source": [
    "Вариант г:\n",
    "\n",
    "$A*B$, $B*A$ - оба произведения определены, размерность полученной матрицы $4\\times 4$"
   ]
  },
  {
   "cell_type": "markdown",
   "metadata": {},
   "source": [
    "__2.__ Найти сумму и произведение матриц $A=\\begin{pmatrix}\n",
    "1 & -2\\\\\n",
    "3 & 0\n",
    "\\end{pmatrix}$ и $B=\\begin{pmatrix}\n",
    "4 & -1\\\\\n",
    "0 & 5\n",
    "\\end{pmatrix}.$"
   ]
  },
  {
   "cell_type": "code",
   "execution_count": 266,
   "metadata": {
    "pycharm": {
     "name": "#%%\n"
    }
   },
   "outputs": [
    {
     "data": {
      "text/plain": "array([[ 5, -3],\n       [ 3,  5]])"
     },
     "execution_count": 266,
     "metadata": {},
     "output_type": "execute_result"
    }
   ],
   "source": [
    "a = np.array([[1,-2], [3,0]])\n",
    "b = np.array([[4,-1], [0,5]])\n",
    "result2_1 = a + b\n",
    "result2_1"
   ]
  },
  {
   "cell_type": "code",
   "execution_count": 267,
   "metadata": {
    "pycharm": {
     "name": "#%%\n"
    }
   },
   "outputs": [
    {
     "data": {
      "text/plain": "array([[  4, -11],\n       [ 12,  -3]])"
     },
     "execution_count": 267,
     "metadata": {},
     "output_type": "execute_result"
    }
   ],
   "source": [
    "result2_2 = np.dot(a, b)\n",
    "result2_2"
   ]
  },
  {
   "cell_type": "markdown",
   "metadata": {},
   "source": [
    "__3.__ Из закономерностей сложения и умножения матриц на число можно сделать вывод, что матрицы одного размера образуют линейное пространство. Вычислить линейную комбинацию $3A-2B+4C$ для матриц $A=\\begin{pmatrix}\n",
    "1 & 7\\\\\n",
    "3 & -6\n",
    "\\end{pmatrix}$, $B=\\begin{pmatrix}\n",
    "0 & 5\\\\\n",
    "2 & -1\n",
    "\\end{pmatrix}$, $C=\\begin{pmatrix}\n",
    "2 & -4\\\\\n",
    "1 & 1\n",
    "\\end{pmatrix}.$"
   ]
  },
  {
   "cell_type": "code",
   "execution_count": 268,
   "outputs": [
    {
     "data": {
      "text/plain": "array([[ 11,  -5],\n       [  9, -12]])"
     },
     "execution_count": 268,
     "metadata": {},
     "output_type": "execute_result"
    }
   ],
   "source": [
    "a = np.array([[1,7], [3,-6]])\n",
    "b = np.array([[0,5], [2,-1]])\n",
    "c = np.array([[2,-4], [1,1]])\n",
    "result3 = (3 * a) + (-2 * b) + (4 * c)\n",
    "result3"
   ],
   "metadata": {
    "collapsed": false,
    "pycharm": {
     "name": "#%%\n"
    }
   }
  },
  {
   "cell_type": "markdown",
   "metadata": {
    "pycharm": {
     "name": "#%% md\n"
    }
   },
   "source": [
    "__4.__ Дана матрица $A=\\begin{pmatrix}\n",
    "4 & 1\\\\\n",
    "5 & -2\\\\\n",
    "2 & 3\n",
    "\\end{pmatrix}$.\n",
    "Вычислить $AA^{T}$ и $A^{T}A$."
   ]
  },
  {
   "cell_type": "code",
   "execution_count": 269,
   "outputs": [
    {
     "data": {
      "text/plain": "array([[ 4,  5,  2],\n       [ 1, -2,  3]])"
     },
     "execution_count": 269,
     "metadata": {},
     "output_type": "execute_result"
    }
   ],
   "source": [
    "a = np.array([[4,1], [5,-2], [2,3]])\n",
    "aT = a.T\n",
    "aT"
   ],
   "metadata": {
    "collapsed": false,
    "pycharm": {
     "name": "#%%\n"
    }
   }
  },
  {
   "cell_type": "code",
   "execution_count": 270,
   "outputs": [
    {
     "data": {
      "text/plain": "array([[17, 18, 11],\n       [18, 29,  4],\n       [11,  4, 13]])"
     },
     "execution_count": 270,
     "metadata": {},
     "output_type": "execute_result"
    }
   ],
   "source": [
    "result4_1 = np.dot(a, aT)\n",
    "result4_1"
   ],
   "metadata": {
    "collapsed": false,
    "pycharm": {
     "name": "#%%\n"
    }
   }
  },
  {
   "cell_type": "code",
   "execution_count": 271,
   "outputs": [
    {
     "data": {
      "text/plain": "array([[45,  0],\n       [ 0, 14]])"
     },
     "execution_count": 271,
     "metadata": {},
     "output_type": "execute_result"
    }
   ],
   "source": [
    "result4_2 = np.dot(aT, a)\n",
    "result4_2"
   ],
   "metadata": {
    "collapsed": false,
    "pycharm": {
     "name": "#%%\n"
    }
   }
  },
  {
   "cell_type": "markdown",
   "metadata": {},
   "source": [
    "__5*.__ Написать на Python функцию для перемножения двух произвольных матриц, не используя NumPy."
   ]
  },
  {
   "cell_type": "code",
   "execution_count": 272,
   "outputs": [],
   "source": [
    "def multiply_matrix(matrix1, matrix2):\n",
    "    if len(matrix1[0]) != len(matrix2):\n",
    "        return ValueError('произведение не определено')\n",
    "    result = [ [0 for j in range(len(matrix2[0]))] for i in range(len(matrix1))]\n",
    "    for i in range(len(matrix1)):\n",
    "        for j in range(len(matrix2[0])):\n",
    "            for k in range(len(matrix2)):\n",
    "                result[i][j] += matrix1[i][k] * matrix2[k][j]\n",
    "    return result"
   ],
   "metadata": {
    "collapsed": false,
    "pycharm": {
     "name": "#%%\n"
    }
   }
  },
  {
   "cell_type": "markdown",
   "source": [
    "Проверка работы"
   ],
   "metadata": {
    "collapsed": false,
    "pycharm": {
     "name": "#%% md\n"
    }
   }
  },
  {
   "cell_type": "code",
   "execution_count": 273,
   "outputs": [
    {
     "name": "stdout",
     "output_type": "stream",
     "text": [
      "Матрица Х:\n",
      " [[ 1 -2]\n",
      " [ 3  0]\n",
      " [ 5  7]]\n",
      "Матрица Y:\n",
      " [[ 4 -1]\n",
      " [ 0  5]]\n",
      "Результат метода NumPy:\n",
      " [[  4 -11]\n",
      " [ 12  -3]\n",
      " [ 20  30]]\n",
      "Результат собственного метода: \n",
      " [[4, -11], [12, -3], [20, 30]]\n"
     ]
    }
   ],
   "source": [
    "x = np.array([[1,-2], [3,0], [5,7]])\n",
    "y = np.array([[4,-1], [0,5]])\n",
    "print(f'Матрица Х:\\n {x}')\n",
    "print(f'Матрица Y:\\n {y}')\n",
    "print(f'Результат метода NumPy:\\n {np.dot(x,y)}')\n",
    "print(f'Результат собственного метода: \\n {multiply_matrix(x,y)}')"
   ],
   "metadata": {
    "collapsed": false,
    "pycharm": {
     "name": "#%%\n"
    }
   }
  }
 ],
 "metadata": {
  "kernelspec": {
   "display_name": "Python 3",
   "language": "python",
   "name": "python3"
  },
  "language_info": {
   "codemirror_mode": {
    "name": "ipython",
    "version": 3
   },
   "file_extension": ".py",
   "mimetype": "text/x-python",
   "name": "python",
   "nbconvert_exporter": "python",
   "pygments_lexer": "ipython3",
   "version": "3.9.0"
  }
 },
 "nbformat": 4,
 "nbformat_minor": 1
}