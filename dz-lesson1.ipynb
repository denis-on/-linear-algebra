{
 "cells": [
  {
   "cell_type": "markdown",
   "metadata": {
    "collapsed": true,
    "pycharm": {
     "name": "#%% md\n"
    }
   },
   "source": [
    "__1.__ Исследовать на линейную зависимость:\n",
    "$$f_{1}(x)=e^{x}, f_{2}(x)=1, f_{3}(x)=x+1, f_{4}(x)=x-e^{x}.$$"
   ]
  },
  {
   "cell_type": "markdown",
   "source": [
    "т.к. мы можем выразить одну функцию через другую, в данном случае:\n",
    "$$f_{4}(x)=f_{3}(x)-f_{2}(x)-f_{1}(x)$$\n",
    "следовательно, получаем линейную зависимость"
   ],
   "metadata": {
    "collapsed": false,
    "pycharm": {
     "name": "#%% md\n"
    }
   }
  },
  {
   "cell_type": "markdown",
   "source": [
    "__2.__ Исследовать на линейную зависимость:\n",
    "$$f_{1}(x)=2, f_{2}(x)=x, f_{3}(x)=x^{2}, f_{4}(x)=(x+1)^{2}.$$"
   ],
   "metadata": {
    "collapsed": false,
    "pycharm": {
     "name": "#%% md\n"
    }
   }
  },
  {
   "cell_type": "markdown",
   "source": [
    "т.к. мы можем выразить одну функцию через другую, в данном случае:\n",
    "$$f_{4}(x)=f_{3}(x)+2f_{2}(x)+0.5f_{1}(x)$$\n",
    "следовательно, получаем линейную зависимость"
   ],
   "metadata": {
    "collapsed": false
   }
  },
  {
   "cell_type": "markdown",
   "source": [
    "__3.__ Найти координаты вектора $x = (2, 3, 5)\\in \\mathbb{R}^{3}$ в базисе $b_{1}=(0, 0, 10)$, $b_{2}=(2, 0, 0)$, $b_{3}=(0, 1, 0)$."
   ],
   "metadata": {
    "collapsed": false,
    "pycharm": {
     "name": "#%% md\n"
    }
   }
  },
  {
   "cell_type": "markdown",
   "source": [
    "$x = (2, 3, 5) = (2,0,0) + (0,3,0) + (0,0,5) = 1 * (2,0,0) + 3 * (0,1,0) + 0.5 * (0,0,10) = 0.5b_{1} + 1*b_{2} + 3*b_{3} = (0.5, 1, 3)$"
   ],
   "metadata": {
    "collapsed": false
   }
  },
  {
   "cell_type": "markdown",
   "source": [
    "__4.__ Найти координаты вектора $3x^{2}-2x+2\\in\\mathbb{R}^{3}[x]$:\n",
    "\n",
    "   а) в базисе $1$, $x$, $x^{2}$;\n",
    "\n",
    "   б) в базисе $x^{2}$, $x-1$, $1$."
   ],
   "metadata": {
    "collapsed": false,
    "pycharm": {
     "name": "#%% md\n"
    }
   }
  },
  {
   "cell_type": "markdown",
   "source": [
    "Для базиса $1$, $x$, $x^{2}$ координаты $(2, -2, 3)$"
   ],
   "metadata": {
    "collapsed": false,
    "pycharm": {
     "name": "#%% md\n"
    }
   }
  },
  {
   "cell_type": "markdown",
   "source": [
    "Для базиса $x^{2}$, $x-1$, $1$ приведем вектор к нужному виду:\n",
    "$3x^{2}-2x+2 = 3x^{2} - 2(x-1)$\n",
    "\n",
    "тогда координаты для базиса $x^{2}$, $x-1$, $1$ будут $(3, -2, 0)$"
   ],
   "metadata": {
    "collapsed": false,
    "pycharm": {
     "name": "#%% md\n"
    }
   }
  },
  {
   "cell_type": "markdown",
   "source": [
    "__5.__ Установить, является ли линейным подпространством:\n",
    "\n",
    "а) совокупность всех векторов трехмерного пространства, у которых по крайней мере одна из первых двух координат равна нулю;\n",
    "\n",
    "б) все векторы, являющиеся линейными комбинациями данных векторов $\\{u_{1}, u_{2}, \\ldots, u_{n}\\}$."
   ],
   "metadata": {
    "collapsed": false,
    "pycharm": {
     "name": "#%% md\n"
    }
   }
  },
  {
   "cell_type": "markdown",
   "source": [
    "а) Возьмем два вектора для примера $a=(0, a2, a3)$ и $b=(b1, 0, b3)$\n",
    "\n",
    "Сумма данных векторов $a+b=(b1, a2, a3+b3)$.\n",
    "\n",
    "Ни одна из двух первых координат не равна нулю, следовательно, данная совокупность векторов не является линейным подпространством."
   ],
   "metadata": {
    "collapsed": false,
    "pycharm": {
     "name": "#%% md\n"
    }
   }
  },
  {
   "cell_type": "markdown",
   "source": [
    "б) Возьмем два вектора для примера $a=3u_{1} + 5u_{2} + 7u_{3}$ и $b=2u_{4} + 6u_{5} + 8u_{6}$\n",
    "\n",
    "Сумма данных векторов $a+b=(3u_{1}+5u_{2}+7u_{3}+2u_{4}+6u_{5}+8u_{6})$\n",
    "\n",
    "Умножение на скаляр вектора a:\n",
    "$K=3$, $K*a=9u_{1}+15u_{2}+21u_{3}$\n",
    "\n",
    "Следовательно, данная совокупность векторов является линейным подпространством."
   ],
   "metadata": {
    "collapsed": false,
    "pycharm": {
     "name": "#%% md\n"
    }
   }
  }
 ],
 "metadata": {
  "kernelspec": {
   "display_name": "Python 3",
   "language": "python",
   "name": "python3"
  },
  "language_info": {
   "codemirror_mode": {
    "name": "ipython",
    "version": 2
   },
   "file_extension": ".py",
   "mimetype": "text/x-python",
   "name": "python",
   "nbconvert_exporter": "python",
   "pygments_lexer": "ipython2",
   "version": "2.7.6"
  }
 },
 "nbformat": 4,
 "nbformat_minor": 0
}